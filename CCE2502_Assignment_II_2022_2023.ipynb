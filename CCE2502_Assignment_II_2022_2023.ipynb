{
 "cells": [
  {
   "cell_type": "markdown",
   "id": "98999d3d",
   "metadata": {},
   "source": [
    "# Assignment II - Logistic Regression\n",
    "### Year 2022-2023- Semester II\n",
    "### CCE2502\n",
    "####  developed by - Adrian Muscat, 2023\n",
    "---\n",
    "# Write Your NAME, ID and CLASS in the space below\n",
    "\n",
    "####  Jasmine Micallef\n",
    "####  395301L\n",
    "####  CCE2502\n",
    "\n",
    "\n",
    "\n",
    "\n",
    "---"
   ]
  },
  {
   "cell_type": "markdown",
   "id": "c89182fe",
   "metadata": {},
   "source": [
    "In this assignment you will develop a multi-class model on the basis of the binary logistic regressor classifier. \n",
    "A number of functions are given, including the gradient descent optimizer. You will be required to develop a few more functions to build and evaluate the multi-class model.\n",
    "\n",
    "NOTES: \n",
    "1. The maximum score is 100.\n",
    "\n",
    "2. The assignment is worth 30% of the final unit mark.\n",
    "\n",
    "2. Submit the jupyter notebook complete with answers and excuted code on VLE. \n",
    "\n",
    "## NOTE: \n",
    "This assignment is to be attempted individually. It is essential that the work you submit and present consists only of your own work; use of copied material will be treated as plagiarism. Discussion is only permitted on general issues, and it is absolutely forbidden to discuss specific details with anyone and/or share results.\n",
    "\n",
    "Please sign and attached the plagiarism form at:\n",
    "\n",
    "https://www.um.edu.mt/ict/students/formsguidelines/\n",
    "\n",
    "Warning: Late submissions will be graded 0F"
   ]
  },
  {
   "cell_type": "markdown",
   "id": "2e38645b",
   "metadata": {},
   "source": [
    "# IMPORTANT NOTE\n",
    "# You are only allowed to use the numpy, matplotlib, csv and pickle libraries to load data, perform calculations and visualise data.\n",
    "# The use of other data science and machine learning libraries or frameworks (such as pandas, sk-learn, keras, etc) is strictly forbidden. Marks will be deducted for using such libraries."
   ]
  },
  {
   "cell_type": "markdown",
   "id": "33498f73",
   "metadata": {},
   "source": [
    "# Part I\n",
    "# Load libraries\n",
    "# Do not change the code in this part"
   ]
  },
  {
   "cell_type": "code",
   "execution_count": 1,
   "id": "582999de",
   "metadata": {},
   "outputs": [],
   "source": [
    "# import  libraries\n",
    "import numpy as np\n",
    "import matplotlib.pyplot as plt\n",
    "import csv\n",
    "import pickle\n",
    "%matplotlib inline"
   ]
  },
  {
   "cell_type": "code",
   "execution_count": 2,
   "id": "5e116628",
   "metadata": {},
   "outputs": [],
   "source": [
    "def lr_loss_function(y_target,y_predicted):\n",
    "    #\n",
    "    #y_target: actual gold labels (vector of size(m,))\n",
    "    #y_predicted : predicted probabilities for positive class (vector of size (m,))\n",
    "    #\n",
    "    m=y_target.shape[0]\n",
    "    L = -(y_target*np.log(y_predicted) + (1-y_target)*np.log(1-y_predicted)).sum()/m\n",
    "    return L\n",
    "\n",
    "\n",
    "def predict_y_prob(W,D):\n",
    "    # W is the weight vector [[w_0],[w_1],[w_2],...] of size [N+1,1]\n",
    "    # where N is number of features, excluding bias\n",
    "    # D is the feature matrix [m,N] where m is the number of examples\n",
    "    # return a vector of size (m,1)\n",
    "    #\n",
    "    m = D.shape[0]\n",
    "    bias = np.ones([m,1], dtype=float)\n",
    "    X = np.concatenate((bias,D),axis=1)\n",
    "    z = np.matmul(W.T,X.T)\n",
    "    y = 1/(1+np.exp(-z))\n",
    "    #\n",
    "    return y.T\n",
    "\n",
    "def get_accuracy(W,X,y):\n",
    "    # W is the weight vector [[w_0],[w_1],[w_2],...] of size [N+1,1]\n",
    "    # where N is number of features, excluding bias\n",
    "    # X is the feature matrix [m,N] where m is the number of examples\n",
    "    # y is the gold label vector of size (m,)\n",
    "    # Computes the accuracy\n",
    "    # in predicting the positive class and returns a scalar\n",
    "    #\n",
    "    Y_pred = (predict_y_prob(W,X)>=0.5).astype(int)\n",
    "    #\n",
    "    return (Y_pred.ravel()==y).astype(int).sum()/y.shape[0]\n"
   ]
  },
  {
   "cell_type": "code",
   "execution_count": 3,
   "id": "ee581c83",
   "metadata": {},
   "outputs": [],
   "source": [
    "# Gradient Descent algoruthm that learn the model parameters\n",
    "# The update equations require the partial derivatives of the loss function\n",
    "# with respect to the weights or parameter of the model\n",
    "#\n",
    "def lr_train_model(X_data, \n",
    "                   y_data, \n",
    "                   reshuffle = 'yes',\n",
    "                   split_frac=0.8, \n",
    "                   init_weights=0.00001, \n",
    "                   no_iterations=2000,\n",
    "                   alpha = 0.001,\n",
    "                   phi = 0.001):\n",
    "    \"\"\"\n",
    "    X_data : data feature matrix (including bias x_0 = 1.0)\n",
    "    y_data : data output values\n",
    "    split_frac : data split fraction, we require the split to compute validation mse\n",
    "        if split_frac = -1 (or negative), then dataset is not split and train and val portions are the same\n",
    "    init_weights : initial weights (all same value)\n",
    "        if init_weights = -1 (or negative), then random weights are chosen\n",
    "    alpha : learning rate\n",
    "    # phi : regularisation constant\n",
    "    \"\"\"\n",
    "    #\n",
    "    idx = np.arange(0, y_data.shape[0])\n",
    "    if reshuffle == 'yes':\n",
    "        np.random.shuffle(idx)\n",
    "    X_data = np.copy(X_data[idx])\n",
    "    y_data = np.copy(y_data[idx])\n",
    "    #\n",
    "    split = int(y_data.shape[0]*split_frac)\n",
    "    if split_frac < 0.0:\n",
    "        split = y_data.shape[0]\n",
    "        y_train = y_data[0:split]\n",
    "        y_val = y_data[0:split]\n",
    "        X_train = X_data[0:split]\n",
    "        X_val = X_data[0:split]\n",
    "    else:\n",
    "        y_train = y_data[0:split]\n",
    "        y_val = y_data[split:]\n",
    "        X_train = X_data[0:split]\n",
    "        X_val = X_data[split:]\n",
    "    #\n",
    "    N = X_data.shape[1] # number of features\n",
    "    if init_weights < 0.0:\n",
    "        W = 0.5*(np.random.rand((N+1))-0.5).reshape(N,1)\n",
    "    else:\n",
    "        W = np.full((N+1,1), init_weights) # initialise weight vectors to teh same value\n",
    "    m=y_train.shape[0]\n",
    "    history_loss=[]\n",
    "    history_val_loss=[]\n",
    "    #\n",
    "    for itr in range(no_iterations):\n",
    "        y_pred_pr = predict_y_prob(W,X_train).ravel()\n",
    "        loss = lr_loss_function(y_train,y_pred_pr)\n",
    "        history_loss.append(loss)\n",
    "        history_val_loss.append(lr_loss_function(y_val,predict_y_prob(W,X_val).ravel()))\n",
    "        #\n",
    "        W[0] = W[0] + alpha*((y_train-y_pred_pr)).sum()/2/m\n",
    "        #\n",
    "        for j in range(1,N+1):\n",
    "            W[j] = W[j] + alpha*((y_train-y_pred_pr)*X_train[:,j-1]-phi*W[j]).sum()/2/m\n",
    "    #\n",
    "    return {'weights':W, 'history':{'train_loss':history_loss,\n",
    "                                    'val_loss':history_val_loss},\n",
    "            'train_acc':get_accuracy(W,X_train,y_train),\n",
    "            'val_acc':get_accuracy(W,X_val,y_val)}\n",
    "\n",
    "def display_results(model):\n",
    "    #\n",
    "    history_train_loss = model['history']['train_loss']\n",
    "    history_val_loss = model['history']['val_loss']\n",
    "    t=range(len(history_train_loss))\n",
    "    p1, p2 = plt.plot(t,history_train_loss,'b',t,history_val_loss,'r')\n",
    "    plt.legend([p1,p2], ['Train loss','Val loss'])\n",
    "    #\n",
    "    print('train acc : ', model['train_acc'])\n",
    "    print('val acc   : ', model['val_acc'])\n",
    "    #\n",
    "    print('Weights : ', model['weights'].ravel())\n",
    "    return 0"
   ]
  },
  {
   "cell_type": "code",
   "execution_count": null,
   "id": "a068c509",
   "metadata": {},
   "outputs": [],
   "source": []
  },
  {
   "cell_type": "markdown",
   "id": "91af2b1c",
   "metadata": {},
   "source": [
    "# Part II Graded Questions below\n",
    "# Introduction to dataset"
   ]
  },
  {
   "cell_type": "markdown",
   "id": "2ad27468",
   "metadata": {},
   "source": [
    "<p>In this part you will be building a multi-class classification model.</p>\n",
    "<p>You will be using a very small subset of the VRD (Visual Relation Detection) dataset, which is a real-world dataset. \n",
    "https://cs.stanford.edu/people/ranjaykrishna/vrd/ \n",
    "    \n",
    "<p>The VRD task is defined as:\n",
    "Given two objects, what is the relation between them?\n",
    "Below is an example. The image depicts two bicycles and a person. The person is enclosed in a blue bounding box and the bicycle on the right in a green bounding box. The task of the model is to select an appropriate spatial relation between the two objects, for example</p>\n",
    "<p>Person TO THE LEFT OF bicycle</p>\n",
    "<p>Bicycle TO THE RIGHT OF person</p>\n",
    "<img src=\"2008_008320_BB.jpeg\" alt=\"drawing\" width=\"300\"/>\n",
    "<p>The VRD task is not simple and the relation selected often depends on external influences, such as the frame of reference. For example humans tend to take the point of view of the depicted person rather than the camera view. For example \"Bicycle TO THE LEFT OF person\" is also correct. Unless corrected such labels manifest themselves as noise in the dataset and are a source of confusion during learning. Further more note that the relation changes if the order of the two objects changes. In general one object (the trajector) is located with respect to the other object (the landmark)</p>\n",
    "<p>Data pre-processing is a very important task in any machine learning project and often requires significant knowledge of the domain. In the case of this assignment, the dataset has been prepared for you, complete with feature extraction and class labels since the study unit deals solely with the develpment of the model. This means that for this assignment you do not need domain knowledge and in any case the domain is from every day life and typically common sense.</p>\n",
    "<p> Specifically the dataset is characterised by six real-valued features and four categorical output classes.</p>\n",
    "<p> Your task is to develop a multi-class model based on the logistic-regression model developed in class. So make sure you have understood this model (lr_train_model in cell above).</p> \n",
    "<p>Execute below cells and then answer the questions that follow.</p>"
   ]
  },
  {
   "cell_type": "code",
   "execution_count": 4,
   "id": "62cc7a29",
   "metadata": {},
   "outputs": [],
   "source": [
    "# First, we load the dataset\n",
    "data = pickle.load(open(\"SRD_Dataset.pkl\", \"rb\"))\n",
    "#"
   ]
  },
  {
   "cell_type": "code",
   "execution_count": 5,
   "id": "a938cbca",
   "metadata": {},
   "outputs": [
    {
     "name": "stdout",
     "output_type": "stream",
     "text": [
      "Number of examples =  1199 \n",
      "\n",
      "Keys in example dictionary : dict_keys(['filename', 'imSizeX', 'imSizeY', 'landmark', 'trajector', 'spatial_label', 'geo_feat']) \n",
      "\n",
      "Some example output labels:\n",
      "    above\n",
      "    on the right of\n",
      "    on the left of\n",
      "    under\n",
      "\n",
      "Feature Headings:\n",
      "    InvFeatXminXmin\n",
      "    InvFeatXmaxXmin\n",
      "    InvFeatYminYmin\n",
      "    InvFeatYmaxYmin\n",
      "    unitVecTrajLand_Norm_wt_UnionBB_x\n",
      "    unitVecTrajLand_Norm_wt_UnionBB_y\n",
      "\n",
      "The features for one example:\n",
      "    0.839041095890411\n",
      "    1.9623287671232876\n",
      "    0.11178247734138973\n",
      "    0.6797583081570997\n",
      "    0.9751722346356505\n",
      "    0.22144776538884195\n"
     ]
    }
   ],
   "source": [
    "# We now explore the dataset\n",
    "#\n",
    "# The examples are organised as a list\n",
    "print(\"Number of examples = \",len(data),\"\\n\")\n",
    "#\n",
    "# Let us explore one example\n",
    "example = data[0]\n",
    "# each example is organised in a dictionary structure; check using type(example))\n",
    "print(\"Keys in example dictionary :\",data[0].keys(),\"\\n\")\n",
    "# below is an explanation for each key\n",
    "# Each example refers to an image and two objects in the image\n",
    "# 'filename' : filename of image\n",
    "# 'imSizeX', 'imSizeY' : size of image in pixels\n",
    "# 'landmark', 'trajector' : the two objects (object, subject)\n",
    "# 'spatial_label' : the output class\n",
    "# 'geo_feat' : the input features for the spatial configuration\n",
    "#\n",
    "# NOTE: In this assignment you only need to use 'spatial_label' and 'geo_feat'\n",
    "#\n",
    "# Let us explore 'spatial_label':\n",
    "print('Some example output labels:')\n",
    "for item in data[8:12]:\n",
    "    print(\"   \",item['spatial_label'])\n",
    "print()\n",
    "# There are actually four unique labels in the dataset\n",
    "#\n",
    "# Let us explore the features\n",
    "print('Feature Headings:')\n",
    "for item in list(data[0]['geo_feat'].keys()):\n",
    "    print(\"   \",item)\n",
    "# The first four and the last two are somewhat correlated\n",
    "# So it may be the case can we can use either or both \n",
    "# Resulting in models of various complexity\n",
    "# And finally, let us see some examples of features\n",
    "print(\"\\nThe features for one example:\")\n",
    "feat_keys = list(data[0]['geo_feat'].keys())\n",
    "for item in feat_keys:\n",
    "    print(\"   \",data[0]['geo_feat'][item])\n",
    "    "
   ]
  },
  {
   "cell_type": "code",
   "execution_count": 6,
   "id": "8316efa0",
   "metadata": {},
   "outputs": [
    {
     "name": "stdout",
     "output_type": "stream",
     "text": [
      "Shape of X : (1199, 6)\n",
      "Shape of y : (1199,)\n"
     ]
    }
   ],
   "source": [
    "# DO NOT MODIFY THIS CELL\n",
    "# copy features and classes into numpy arrays\n",
    "geo_feat_keys = list(data[0]['geo_feat'].keys())\n",
    "m = len(data)  # number of examples\n",
    "N = len(geo_feat_keys) # number of features\n",
    "X_data = np.zeros((m,N))\n",
    "y_data = np.zeros(m)\n",
    "#\n",
    "# code a label encoder\n",
    "label_encode = {'above':0,\n",
    "                'under':1,\n",
    "                'on the left of':2,\n",
    "                'on the right of':3}\n",
    "#\n",
    "label_decode = {0:'above',\n",
    "                1: 'under',\n",
    "                2: 'on the left of',\n",
    "                3: 'on the right of'}\n",
    "\n",
    "#\n",
    "for j, item in enumerate(data[0:]):\n",
    "    # store geo_feat in array\n",
    "    dummy = np.zeros(N)    \n",
    "    for i, g in enumerate(geo_feat_keys):\n",
    "        dummy[i] = item['geo_feat'][g]\n",
    "    X_data[j,:] = np.copy(dummy)\n",
    "    y_data[j] = label_encode[item['spatial_label']]\n",
    "                   \n",
    "    \n",
    "print(\"Shape of X :\",X_data.shape)\n",
    "print(\"Shape of y :\",y_data.shape)"
   ]
  },
  {
   "cell_type": "code",
   "execution_count": 7,
   "id": "3d721db1",
   "metadata": {},
   "outputs": [
    {
     "name": "stdout",
     "output_type": "stream",
     "text": [
      "959\n",
      "X_train :  (959, 6)\n",
      "y_train :  (959,)\n",
      "X_test :  (240, 6)\n",
      "y_test :  (240,)\n",
      "[-0.64146693  1.65022919 -0.45602928  1.06652919 -0.01177097  0.02942184]\n",
      "[12.06538029 15.63844514  4.15806149  3.05253844  0.53498208  0.46401372]\n",
      "[1. 1. 1. 1. 1. 1.]\n"
     ]
    }
   ],
   "source": [
    "# DO NOT MODIFY THIS CELL\n",
    "#\n",
    "# Split the dataset into train and test\n",
    "\n",
    "S=(int)(len(data)*.8)\n",
    "print(S)\n",
    "X_train = X_data[0:S,0:6]\n",
    "y_train = y_data[0:S]\n",
    "X_test = X_data[S:,0:6]\n",
    "y_test = y_data[S:]\n",
    "print(\"X_train : \",X_train.shape)\n",
    "print(\"y_train : \",y_train.shape)\n",
    "print(\"X_test : \",X_test.shape)\n",
    "print(\"y_test : \",y_test.shape)\n",
    "print(X_train.mean(axis=0))\n",
    "print(X_train.var(axis=0))\n",
    "#\n",
    "# normalisation\n",
    "X_mean = X_train.mean(axis=0)\n",
    "X_var = X_train.var(axis=0)\n",
    "X_train = (X_train - X_mean)/np.sqrt(X_var)\n",
    "X_test = (X_test - X_mean)/np.sqrt(X_var)\n",
    "print(X_train.var(axis=0))"
   ]
  },
  {
   "cell_type": "code",
   "execution_count": 8,
   "id": "e63fd2e0",
   "metadata": {},
   "outputs": [
    {
     "name": "stdout",
     "output_type": "stream",
     "text": [
      "-5.968558980384842e-13\n",
      "5753.999999999998\n",
      "1439.0\n",
      "9.515302262342551\n",
      "1592.3413587473128\n",
      "361.0\n"
     ]
    }
   ],
   "source": [
    "# Sanity Check\n",
    "print(X_train.sum())\n",
    "assert X_train.sum()==-5.968558980384842e-13, \"Error in X_train\"\n",
    "#\n",
    "print((X_train**2.0).sum())\n",
    "assert (X_train**2.0).sum()==5753.999999999998, \"Error in X_train\"\n",
    "#\n",
    "print(y_train.sum())\n",
    "assert y_train.sum()==1439.0, \"Error in y_train\"\n",
    "#\n",
    "print(X_test.sum())\n",
    "assert X_test.sum()==9.515302262342551, \"Error in X_test\"\n",
    "#\n",
    "print((X_test**2.0).sum())\n",
    "assert (X_test**2.0).sum()==1592.3413587473128, \"Error in X_test\"\n",
    "#\n",
    "print(y_test.sum())\n",
    "assert y_test.sum()==361.0, \"Error in y_test\"\n"
   ]
  },
  {
   "cell_type": "markdown",
   "id": "251908ce",
   "metadata": {},
   "source": [
    "# GRADED QUESTIONS BELOW\n",
    "# IMPORTANT NOTE: Provide short explanations and any comments that add value to your answers"
   ]
  },
  {
   "cell_type": "code",
   "execution_count": null,
   "id": "e4f9c6f7",
   "metadata": {},
   "outputs": [],
   "source": []
  },
  {
   "cell_type": "markdown",
   "id": "a33e09db",
   "metadata": {},
   "source": [
    "# QUESTION 1:  [10 marks]\n",
    "\n",
    "## Develop a function that takes as input the output variable vector (usually labelled as \"y\"), computes the output class distribution and plots the distribution on a bar chart \n",
    "\n",
    "## Use the function to plot the output class distribution for the train set and test set separately\n",
    "### Note: you might find the function useful further on\n"
   ]
  },
  {
   "cell_type": "code",
   "execution_count": 9,
   "id": "7b63ed06",
   "metadata": {},
   "outputs": [],
   "source": [
    "def class_distribution(y):\n",
    "    \n",
    "    \"\"\"\n",
    "    Computes the output class distribution and plots the distribution on a bar chart.\n",
    "    Args:\n",
    "        y: The output variable vector.\n",
    "    Returns:\n",
    "        The count of samples in each class.\n",
    "    \"\"\"\n",
    "        \n",
    "    # Get unique class labels and initialize counts\n",
    "    labels = np.unique(y)\n",
    "    counts = np.zeros(len(labels))\n",
    "    \n",
    "    # Convert label codes to string labels for visualization\n",
    "    labelStr = [label_decode[x] for x in range(len(labels))]\n",
    "    \n",
    "    # Count the number of samples for each class\n",
    "    for l in range(len(labels)):\n",
    "        counts[l] = y.tolist().count(labels[l])\n",
    "        print(labelStr[l],\"| count:\",counts[l])\n",
    "\n",
    "    # Plot a bar graph of the class distribution\n",
    "    plt.bar(labelStr, counts)\n",
    "    plt.show()\n",
    "    \n",
    "    # Return the counts for each class\n",
    "    return counts"
   ]
  },
  {
   "cell_type": "code",
   "execution_count": 10,
   "id": "92b22c84",
   "metadata": {},
   "outputs": [
    {
     "name": "stdout",
     "output_type": "stream",
     "text": [
      "Train set class distribution:\n",
      "\n",
      "above | count: 245.0\n",
      "under | count: 232.0\n",
      "on the left of | count: 239.0\n",
      "on the right of | count: 243.0\n"
     ]
    },
    {
     "data": {
      "image/png": "[encoded data removed]",
      "text/plain": [
       "<Figure size 640x480 with 1 Axes>"
      ]
     },
     "metadata": {},
     "output_type": "display_data"
    }
   ],
   "source": [
    "print(\"Train set class distribution:\\n\")\n",
    "train_class_distribution = class_distribution(y_train)"
   ]
  },
  {
   "cell_type": "code",
   "execution_count": 11,
   "id": "86b54837",
   "metadata": {},
   "outputs": [
    {
     "name": "stdout",
     "output_type": "stream",
     "text": [
      "Test set class distribution:\n",
      "\n",
      "above | count: 54.0\n",
      "under | count: 68.0\n",
      "on the left of | count: 61.0\n",
      "on the right of | count: 57.0\n"
     ]
    },
    {
     "data": {
      "image/png": "[encoded data removed]",
      "text/plain": [
       "<Figure size 640x480 with 1 Axes>"
      ]
     },
     "metadata": {},
     "output_type": "display_data"
    }
   ],
   "source": [
    "print(\"Test set class distribution:\\n\")\n",
    "test_class_distribution = class_distribution(y_test)"
   ]
  },
  {
   "cell_type": "markdown",
   "id": "8592ebdd",
   "metadata": {},
   "source": [
    "# QUESTION 2:  [15 marks]\n",
    "\n",
    "## You will be developing a multi-class method using the one-vs-rest method. The number of unique classes is four and therefore you need to develop four binary classification models. This necessitates that you extract four one-vs-rest (OvR) training sets out of the full training set.  \n",
    "## Extract these four OvR datasets. \n",
    "## Label the X_train and y_train arrays as X_train_[class] and y_train_[class]\n",
    "## e.g X_train_above, y_train_above for the class \"above\"\n",
    "### Remember to copy the array where necessary and include any necessary sanity checks\n"
   ]
  },
  {
   "cell_type": "code",
   "execution_count": 12,
   "id": "366b7c5e",
   "metadata": {},
   "outputs": [],
   "source": [
    "def ovr_data(X, y, class_label):\n",
    "    '''\n",
    "    Returns OvR data for a given class label\n",
    "    Inputs:\n",
    "        X: A 2D array of the input data.\n",
    "        y: A 1D array of the target labels.\n",
    "        class_label: int\n",
    "            The class label for which to create OvR data.\n",
    "    Returns:\n",
    "        X_ovr: array-like, shape = [n_samples, n_features]\n",
    "            OvR data for the given class label.\n",
    "        y_ovr: array-like, shape = [n_samples]\n",
    "            OvR labels for the given class label.\n",
    "    '''\n",
    "    # create a copy of the input data\n",
    "    X_ovr = np.copy(X)\n",
    "\n",
    "    # create binary labels for the given class label\n",
    "    y_ovr = np.zeros_like(y)\n",
    "    y_ovr[y == class_label] = 1\n",
    "\n",
    "    return X_ovr, y_ovr\n"
   ]
  },
  {
   "cell_type": "code",
   "execution_count": 13,
   "id": "e0201caf",
   "metadata": {},
   "outputs": [],
   "source": [
    "#Extracting the OvR datasets\n",
    "\n",
    "X_train_above, y_train_above = ovr_data(X_train, y_train, 0)\n",
    "X_train_under, y_train_under = ovr_data(X_train, y_train, 1)\n",
    "X_train_on_the_left_of, y_train_on_the_left_of = ovr_data(X_train, y_train, 2)\n",
    "X_train_on_the_right_of, y_train_on_the_right_of = ovr_data(X_train, y_train, 3)\n"
   ]
  },
  {
   "cell_type": "code",
   "execution_count": 14,
   "id": "e84b3b29",
   "metadata": {},
   "outputs": [
    {
     "name": "stdout",
     "output_type": "stream",
     "text": [
      "-5.968558980384842e-13\n",
      "245.0\n",
      "-5.968558980384842e-13\n",
      "232.0\n",
      "-5.968558980384842e-13\n",
      "239.0\n",
      "-5.968558980384842e-13\n",
      "243.0\n"
     ]
    }
   ],
   "source": [
    "# Sanity Checks\n",
    "print(X_train_above.sum())\n",
    "assert X_train_above.sum()==-5.968558980384842e-13, \"Error in X_train_above\"\n",
    "#\n",
    "print(y_train_above.sum())\n",
    "assert y_train_above.sum()==245.0, \"Error in y_train_above\"\n",
    "#\n",
    "print(X_train_under.sum())\n",
    "assert X_train_under.sum()==-5.968558980384842e-13, \"Error in X_train_under\"\n",
    "#\n",
    "print(y_train_under.sum())\n",
    "assert y_train_under.sum()==232.0, \"Error in y_train_under\"\n",
    "#\n",
    "print(X_train_on_the_left_of.sum())\n",
    "assert X_train_on_the_left_of.sum()==-5.968558980384842e-13, \"Error in X_train_on_the_left_of\"\n",
    "#\n",
    "print(y_train_on_the_left_of.sum())\n",
    "assert y_train_on_the_left_of.sum()==239.0, \"Error in y_train_on_the_left_of\"\n",
    "#\n",
    "print(X_train_on_the_right_of.sum())\n",
    "assert X_train_on_the_right_of.sum()==-5.968558980384842e-13, \"Error in X_train_on_the_right_of\"\n",
    "#\n",
    "print(y_train_on_the_right_of.sum())\n",
    "assert y_train_on_the_right_of.sum()==243.0, \"Error in y_train_on_the_right_of\"\n"
   ]
  },
  {
   "cell_type": "markdown",
   "id": "73f53a7b",
   "metadata": {},
   "source": [
    "# QUESTION 3:  [40 marks]\n",
    "\n",
    "## Use the gradient descent algorithm given in this notebook (lr_train_model) to train the four models, one at a time.  In this case you've got six features and so the weight vector per model is of length 7. Use a split ratio of 0.8 (train/val) during training and compute the final accuracy on the test set, post training.\n",
    "## Label the four models as lr_model_[class], for example lr_model_above for the class \"above\". Thus the weights and other useful outputs are saved in the respective dictionary ( lr_model_[class] ).\n"
   ]
  },
  {
   "cell_type": "code",
   "execution_count": 15,
   "id": "f8afdc68",
   "metadata": {},
   "outputs": [],
   "source": [
    "#numpy array to store the final accuracies of each model\n",
    "accuracy = np.zeros(4)\n"
   ]
  },
  {
   "cell_type": "code",
   "execution_count": 16,
   "id": "2b2f9435",
   "metadata": {},
   "outputs": [
    {
     "name": "stdout",
     "output_type": "stream",
     "text": [
      "train acc :  0.8904823989569752\n",
      "val acc   :  0.90625\n",
      "Weights :  [-0.21869057 -0.03973349  0.03184939 -0.16552899 -0.14251856  0.00674127\n",
      "  0.23689289]\n",
      "Accuracy on test set: 0.9208333333333333\n"
     ]
    },
    {
     "data": {
      "image/png": "[encoded data removed]",
      "text/plain": [
       "<Figure size 640x480 with 1 Axes>"
      ]
     },
     "metadata": {},
     "output_type": "display_data"
    }
   ],
   "source": [
    "#train ovr model using ovr training sets\n",
    "lr_model_above = lr_train_model(X_train_above, y_train_above)\n",
    "display_results(lr_model_above)\n",
    "\n",
    "#convert test sets to ovr format to match the predictions of the model\n",
    "X_test_above, y_test_above = ovr_data(X_test, y_test, 0)\n",
    "accuracy[0] = (get_accuracy(lr_model_above['weights'],X_test_above, y_test_above))\n",
    "\n",
    "print(\"Accuracy on test set:\", accuracy[0])"
   ]
  },
  {
   "cell_type": "code",
   "execution_count": 28,
   "id": "0b7b40ed",
   "metadata": {},
   "outputs": [
    {
     "name": "stdout",
     "output_type": "stream",
     "text": [
      "train acc :  0.8930899608865711\n",
      "val acc   :  0.8854166666666666\n",
      "Weights :  [-0.23113246 -0.00895794  0.01922038  0.08123689  0.13359594 -0.00597863\n",
      " -0.2266613 ]\n",
      "Accuracy on test set: 0.8666666666666667\n"
     ]
    },
    {
     "data": {
      "image/png": "[encoded data removed]",
      "text/plain": [
       "<Figure size 640x480 with 1 Axes>"
      ]
     },
     "metadata": {},
     "output_type": "display_data"
    }
   ],
   "source": [
    "#train ovr model using ovr training sets\n",
    "lr_model_under = lr_train_model(X_train_under, y_train_under)\n",
    "display_results(lr_model_under)\n",
    "\n",
    "#convert test sets to ovr format to match the predictions of the model\n",
    "X_test_under, y_test_under = ovr_data(X_test, y_test, 1)\n",
    "accuracy[1] = (get_accuracy(lr_model_under['weights'],X_test_under, y_test_under))\n",
    "\n",
    "print(\"Accuracy on test set:\", accuracy[1])"
   ]
  },
  {
   "cell_type": "code",
   "execution_count": 18,
   "id": "7fd6063d",
   "metadata": {},
   "outputs": [
    {
     "name": "stdout",
     "output_type": "stream",
     "text": [
      "train acc :  0.8904823989569752\n",
      "val acc   :  0.875\n",
      "Weights :  [-0.23215352 -0.05487078 -0.09470078  0.03949786  0.00902855 -0.23985932\n",
      " -0.02995892]\n",
      "Accuracy on test set: 0.8875\n"
     ]
    },
    {
     "data": {
      "image/png": "[encoded data removed]",
      "text/plain": [
       "<Figure size 640x480 with 1 Axes>"
      ]
     },
     "metadata": {},
     "output_type": "display_data"
    }
   ],
   "source": [
    "#train ovr model using ovr training sets\n",
    "lr_model_left_of = lr_train_model(X_train_on_the_left_of, y_train_on_the_left_of)\n",
    "display_results(lr_model_left_of)\n",
    "\n",
    "#convert test sets to ovr format to match the predictions of the model\n",
    "X_test_left_of, y_test_left_of = ovr_data(X_test, y_test, 2)\n",
    "accuracy[2] = (get_accuracy(lr_model_left_of['weights'],X_test_left_of, y_test_left_of))\n",
    "\n",
    "print(\"Accuracy on test set:\", accuracy[2])"
   ]
  },
  {
   "cell_type": "code",
   "execution_count": 19,
   "id": "b51d8607",
   "metadata": {},
   "outputs": [
    {
     "name": "stdout",
     "output_type": "stream",
     "text": [
      "train acc :  0.8983050847457628\n",
      "val acc   :  0.875\n",
      "Weights :  [-0.21678735  0.11941494  0.07884084  0.02340006  0.00766516  0.24975661\n",
      "  0.00483824]\n",
      "Accuracy on test set: 0.8708333333333333\n"
     ]
    },
    {
     "data": {
      "image/png": "[encoded data removed]",
      "text/plain": [
       "<Figure size 640x480 with 1 Axes>"
      ]
     },
     "metadata": {},
     "output_type": "display_data"
    }
   ],
   "source": [
    "#train ovr model using ovr training sets\n",
    "lr_model_right_of = lr_train_model(X_train_on_the_right_of, y_train_on_the_right_of)\n",
    "display_results(lr_model_right_of)\n",
    "\n",
    "#convert test sets to ovr format to match the predictions of the model\n",
    "X_test_right_of, y_test_right_of = ovr_data(X_test, y_test, 3)\n",
    "accuracy[3] = (get_accuracy(lr_model_right_of['weights'],X_test_right_of, y_test_right_of))\n",
    "\n",
    "print(\"Accuracy on test set:\", accuracy[3])"
   ]
  },
  {
   "cell_type": "code",
   "execution_count": null,
   "id": "acc7a553",
   "metadata": {},
   "outputs": [],
   "source": []
  },
  {
   "cell_type": "markdown",
   "id": "98730c70",
   "metadata": {},
   "source": [
    "# QUESTION 4:  [10 marks]\n",
    "## Compute the overall classification accuracy on the test set."
   ]
  },
  {
   "cell_type": "code",
   "execution_count": 20,
   "id": "76fab697",
   "metadata": {},
   "outputs": [
    {
     "name": "stdout",
     "output_type": "stream",
     "text": [
      "Overall classification accuracy on test set: 0.8827777777777778\n"
     ]
    }
   ],
   "source": [
    "# Overall accuracy is the sum of the individual accuracy multiplied by the weighted average of these accuracies\n",
    "#such that the weights are the proportion of samples in each class\n",
    "\n",
    "overall_accuracy = np.zeros(4)\n",
    "\n",
    "for i in range(4):\n",
    "    overall_accuracy[i] = (accuracy[i]*(test_class_distribution[i]/len(y_test)))\n",
    "  \n",
    "print(\"Overall classification accuracy on test set:\", overall_accuracy.sum())"
   ]
  },
  {
   "cell_type": "code",
   "execution_count": null,
   "id": "f1b70645",
   "metadata": {},
   "outputs": [],
   "source": []
  },
  {
   "cell_type": "markdown",
   "id": "62e403ee",
   "metadata": {},
   "source": [
    "# Question 5 [10 marks]\n",
    "\n",
    "## Define the 'recall' metric \n",
    "## Compute the recall score for each class separately and compare the scores to the accuracies of the individual OvR models\n",
    "### NOTE: you may need to look up the definition of \"recall\", which function should be coded from scratch\n",
    "\n"
   ]
  },
  {
   "cell_type": "markdown",
   "id": "57084dc0",
   "metadata": {},
   "source": [
    "Recall measures the proportion of positive instances that are correctly identified by the model, providing insights into the model's ability to capture positive instances, such that:\n",
    "\n",
    "Recall = True Positives / (True Positives + False Negatives) \n",
    "\n",
    "A high recall indicates that the model is able to effectively capture the positive instances and minimize false negatives. However, a high recall may come at the expense of increasing false positives.\n",
    "\n",
    "On the other hand, accuracy measures the proportion of all positive and negative instances that are correctly predicted by the model, such that:\n",
    "\n",
    "Accuracy = (True Positives + True Negatives) / (True Positives + True Negatives + False Positives + False Negatives)"
   ]
  },
  {
   "cell_type": "code",
   "execution_count": 33,
   "id": "a984d34e",
   "metadata": {},
   "outputs": [],
   "source": [
    "def get_recall(W, X, y):\n",
    "    \n",
    "    \"\"\"\n",
    "    Computes the recall for a binary classification problem\n",
    "    Args:\n",
    "        W: A 1D array of the weights.\n",
    "        X: A 2D array of the test data.\n",
    "        y: A 1D array of the true labels.\n",
    "    Returns:\n",
    "        The recall score.\n",
    "    \"\"\"\n",
    "        \n",
    "    # Predict the labels using the predict_y_prob function\n",
    "    Y_pred = (predict_y_prob(W, X) >= 0.5).astype(int)\n",
    "    Y_pred = Y_pred.ravel()\n",
    "    \n",
    "    # Count the true positives (tp) and true positives + false negatives (tpfn)\n",
    "    tp = 0\n",
    "    tpfn = 0\n",
    "    for i in range(len(Y_pred)):\n",
    "        if Y_pred[i] == y[i]:  # true positive or true negative\n",
    "            if Y_pred[i] == 1:  # true positive\n",
    "                tp += 1\n",
    "                tpfn += 1\n",
    "        else:  # false positive or false negative\n",
    "            if Y_pred[i] == 0:  # false negative\n",
    "                tpfn += 1\n",
    "    \n",
    "    # Compute the recall as the ratio of true positives to true positives + false negatives\n",
    "    return tp / tpfn"
   ]
  },
  {
   "cell_type": "code",
   "execution_count": 34,
   "id": "9bafd20d",
   "metadata": {},
   "outputs": [
    {
     "name": "stdout",
     "output_type": "stream",
     "text": [
      "above_model:\n",
      "accuracy = 0.9208333333333333\n",
      "recall = 0.9074074074074074\n",
      "\n",
      "under_model:\n",
      "accuracy = 0.8666666666666667\n",
      "recall = 0.75\n",
      "\n",
      "left_of_model:\n",
      "accuracy = 0.8875\n",
      "recall = 0.9344262295081968\n",
      "\n",
      "right_of_model:\n",
      "accuracy = 0.8708333333333333\n",
      "recall = 0.9473684210526315\n"
     ]
    }
   ],
   "source": [
    "#above model\n",
    "\n",
    "recall = get_recall(lr_model_above['weights'],X_test_above, y_test_above)\n",
    "\n",
    "print(\"above_model:\")\n",
    "print(\"accuracy =\",accuracy[0])\n",
    "print(\"recall =\",recall)\n",
    "print(\"\")\n",
    "\n",
    "\n",
    "#under model\n",
    "\n",
    "recall = get_recall(lr_model_under['weights'],X_test_under, y_test_under)\n",
    "\n",
    "print(\"under_model:\")\n",
    "print(\"accuracy =\",accuracy[1])\n",
    "print(\"recall =\",recall)\n",
    "print(\"\")\n",
    "\n",
    "\n",
    "#left of model\n",
    "\n",
    "recall = get_recall(lr_model_left_of['weights'],X_test_left_of, y_test_left_of)\n",
    "\n",
    "print(\"left_of_model:\")\n",
    "print(\"accuracy =\",accuracy[2])\n",
    "print(\"recall =\",recall)\n",
    "print(\"\")\n",
    "\n",
    "\n",
    "#right of model\n",
    "\n",
    "recall = get_recall(lr_model_right_of['weights'],X_test_right_of, y_test_right_of)\n",
    "\n",
    "print(\"right_of_model:\")\n",
    "print(\"accuracy =\",accuracy[3])\n",
    "print(\"recall =\",recall)\n"
   ]
  },
  {
   "cell_type": "markdown",
   "id": "d9bada0e",
   "metadata": {},
   "source": [
    "The following observations can be made:\n",
    "\n",
    "- above_model \n",
    "\n",
    "This model has a high accuracy and high recall score. The high accuracy and recall values suggest that your OVR model is performing well on the given dataset, and is able to make accurate predictions for both positive and negative cases.\n",
    "\n",
    "- under_model\n",
    "\n",
    "This model has relatively lower accuracy, indicating that the model misclassifies more samples overall. It also has a relatively lower recall score which indicates that the model misses more positive samples than the other models. This could be due to a high false negative rate or a low true positive rate. Overall, this suggests that the model may have difficulty distinguishing positive and negative samples, leading to lower performance in both accuracy and recall. \n",
    "\n",
    "- left_of_model and right_of_model \n",
    "\n",
    "These models have a good accuracy and a high recall score. This indicates that the models are performing relatively well in terms of overall accuracy, but it are still misclassifying some samples. The higher recall scores suggest that the models are better at identifying positive samples, but they may also be misclassifying some negative samples as positive.\n",
    "\n",
    "In summary, the above_model and right_of_model have the highest accuracy and recall values, respectively, indicating that they are the most accurate and reliable models. The under_model has the lowest accuracy and recall values, indicating that it is the least accurate and reliable model. "
   ]
  },
  {
   "cell_type": "markdown",
   "id": "1baffae5",
   "metadata": {},
   "source": [
    "# Question 6 [15 marks]\n",
    "\n",
    "## Define the confusion matrix\n",
    "## Compute the confusion matrix and determine which class (or classes in case of a tie) is/are least confused with recalling \"on the right of\".\n",
    "### NOTE: you may need to look up the definition of \"confusion matrix\", which function should be coded from scratch\n",
    "\n"
   ]
  },
  {
   "cell_type": "markdown",
   "id": "7f2d971f",
   "metadata": {},
   "source": [
    "A confusion matrix is a table that is used to evaluate the performance of a machine learning model in classification tasks. It is a matrix of the true positive (TP), true negative (TN), false positive (FP), and false negative (FN) predictions made by the model, such that:\n",
    "\n",
    "- TP is the number of positive instances that were correctly classified by the model\n",
    "- TN is the number of negative instances that were correctly classified by the model\n",
    "- FP is the number of negative instances that were incorrectly classified as positive by the model\n",
    "- FN is the number of positive instances that were incorrectly classified as negative by the model\n",
    "\n",
    "The rows of the matrix correspond to the true labels, while the columns correspond to the predicted labels."
   ]
  },
  {
   "cell_type": "code",
   "execution_count": 23,
   "id": "8d0673d1",
   "metadata": {},
   "outputs": [],
   "source": [
    "def predict_y_prob_ovr(W, num_classes, X_test):\n",
    "\n",
    "    \"\"\"\n",
    "    Predicts the class labels of test data using multiple ovr models\n",
    "    Args:\n",
    "        W: A 2D array of the weights for each class.\n",
    "        X_test: A 2D array of the test data.\n",
    "        num_classes: The number of classes in the dataset.\n",
    "    Returns:\n",
    "        A 1D numpy array of predicted labels for the test samples.\n",
    "    \"\"\"\n",
    "        \n",
    "    # Get the number of test samples\n",
    "    num_test = X_test.shape[0]\n",
    "    \n",
    "    # Add a column of ones as the bias term to the test data\n",
    "    bias = np.ones([num_test,1], dtype=float)\n",
    "    X_test = np.concatenate((bias,X_test),axis=1)\n",
    "    \n",
    "    # Create an array to hold the predicted labels for the test samples\n",
    "    y_pred = np.zeros(num_test, dtype=int)\n",
    "    \n",
    "    # Loop over each test sample\n",
    "    for i in range(num_test):\n",
    "        \n",
    "        # Initialize an array to hold the predicted probabilities for each class\n",
    "        prob = np.zeros(num_classes)\n",
    "        \n",
    "        # Loop over each class and compute the predicted probability\n",
    "        for j in range(num_classes):\n",
    "            \n",
    "            # Compute the dot product of the test sample and the weights for the current class\n",
    "            z = np.dot(X_test[i], W[j])\n",
    "            \n",
    "            # Compute the predicted probability for the current class using the sigmoid function\n",
    "            prob[j] = 1 / (1 + np.exp(-z))\n",
    "            \n",
    "        # Set the predicted label for the test sample to the class with the highest predicted probability\n",
    "        y_pred[i] = np.argmax(prob)\n",
    "    \n",
    "    # Return the predicted labels for the test samples\n",
    "    return y_pred\n",
    "\n",
    "\n",
    "\n",
    "def confusion_matrix(y_true, y_pred, num_classes):\n",
    "    \n",
    "    \"\"\"\n",
    "    Computes the confusion matrix given the true and predicted labels.\n",
    "    \n",
    "    Args:\n",
    "        y_true: A 1D array of true labels.\n",
    "        y_pred: A 1D array of predicted labels.\n",
    "        num_classes: The number of classes in the dataset.\n",
    "    \n",
    "    Returns:\n",
    "        A 2D numpy array representing the confusion matrix.\n",
    "    \"\"\"\n",
    "    \n",
    "    # Initialize a 2D array of zeros for the confusion matrix\n",
    "    cm = np.zeros((num_classes, num_classes), dtype=int)\n",
    "    \n",
    "    # Loop through all possible class label combinations\n",
    "    for i in range(num_classes):\n",
    "        for j in range(num_classes):\n",
    "            # Compute the number of samples with true label i and predicted label j\n",
    "            cm[i,j] = np.sum(np.logical_and(y_true == i, y_pred == j))\n",
    "    \n",
    "    # Return the confusion matrix\n",
    "    return cm\n"
   ]
  },
  {
   "cell_type": "code",
   "execution_count": 24,
   "id": "5c389893",
   "metadata": {},
   "outputs": [
    {
     "name": "stdout",
     "output_type": "stream",
     "text": [
      "[[47  0  4  3]\n",
      " [ 1 50 10  7]\n",
      " [ 4  6 49  2]\n",
      " [ 3  2  1 51]]\n"
     ]
    }
   ],
   "source": [
    "W = [lr_model_above['weights'], lr_model_under['weights'], lr_model_left_of['weights'], lr_model_right_of['weights']]\n",
    "y_pred = predict_y_prob_ovr(W, 4, X_test)\n",
    "\n",
    "cm = confusion_matrix(y_test, y_pred, 4)\n",
    "print(cm)"
   ]
  },
  {
   "cell_type": "markdown",
   "id": "f3b93af7",
   "metadata": {},
   "source": [
    "The last row of the confusion matrix corresponds to \"on the right of\" (i.e class 3). The confusion matrix shows that when considering class 3 as the positive class, there are 3 false positives for class 0, 2 false positives for class 1 and 1 false positive for class 2. \n",
    "\n",
    "Therefore, class 2 which corresponds to \"on the left of\" is least confused with recalling class \"on the right of\" because it has the least number of misclassifications into class 3."
   ]
  },
  {
   "cell_type": "code",
   "execution_count": null,
   "id": "1371840a",
   "metadata": {},
   "outputs": [],
   "source": []
  }
 ],
 "metadata": {
  "kernelspec": {
   "display_name": "Python 3 (ipykernel)",
   "language": "python",
   "name": "python3"
  },
  "language_info": {
   "codemirror_mode": {
    "name": "ipython",
    "version": 3
   },
   "file_extension": ".py",
   "mimetype": "text/x-python",
   "name": "python",
   "nbconvert_exporter": "python",
   "pygments_lexer": "ipython3",
   "version": "3.11.2"
  }
 },
 "nbformat": 4,
 "nbformat_minor": 5
}
